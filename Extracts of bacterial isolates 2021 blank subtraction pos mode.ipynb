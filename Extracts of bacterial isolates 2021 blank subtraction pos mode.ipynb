{
 "cells": [
  {
   "cell_type": "code",
   "execution_count": 1,
   "metadata": {},
   "outputs": [],
   "source": [
    "import pandas as pd\n",
    "import numpy as np"
   ]
  },
  {
   "cell_type": "code",
   "execution_count": 2,
   "metadata": {},
   "outputs": [],
   "source": [
    "UnalteredFrame = pd.read_excel('C:/Users/jdeutsch7/Documents/Bacterial extracts/probiotic extracts sent 5.29.21/FBMN/Blank Subtraction/input_blank_subtraction.xlsx')\n",
    "#.xsxl file"
   ]
  },
  {
   "cell_type": "markdown",
   "metadata": {},
   "source": [
    "This takes the mean of the three columns in the unaltered Frame"
   ]
  },
  {
   "cell_type": "code",
   "execution_count": 3,
   "metadata": {},
   "outputs": [],
   "source": [
    "ControlsLCMSSOD = UnalteredFrame[['SOD_Blank1', 'SOD_Blank2', 'SOD_Blank3']].apply(np.mean,axis=1)\n",
    "ControlscentrifugeSolventBlanks = UnalteredFrame[['145_1_solventcntrl_cs_1', '145_2_solventcntrl_cs_2', '145_3_solventcntrl_cs_3']].apply(np.mean,axis=1)\n",
    "ControlsSWBMediaBlanks = UnalteredFrame[['145_6_mediacntrl_swb_6', '10_3_mediacntrl_swb_12', '145_7_mediacntrl_swb_7']].apply(np.mean,axis=1)\n",
    "ControlsSWAMediaBlanks = UnalteredFrame[['145_9_mediacntrl_swa_9', '10_2_mediacntrl_swa_11', '145_8_mediacntrl_swa_8']].apply(np.mean,axis=1)\n",
    "ControlsfilterpaperSolventBlanks = UnalteredFrame[['10_1_solventcntrl_fps_10', '145_5_solventcntrl_fps_5', '145_4_solventcntrl_fps_4']].apply(np.mean,axis=1)\n",
    "#all solvents were produced in triplicate"
   ]
  },
  {
   "cell_type": "code",
   "execution_count": 4,
   "metadata": {},
   "outputs": [],
   "source": [
    "BlockSamples1 = UnalteredFrame[['135_1_Taipt_LYO_93', '101_24_Ratla_WET_28', '129_3_Pmedi_LYO_79', '129_4_Pruth_LYO_80', '101_23_Ratla_LYO_27', '135_3_Vsina_LYO_95', '135_2_Taipt_WET_94', '135_9_Taipt_LYO_101', '127_11_Ppisc_LYO_63', '133_8_Eferg_WET_88', '135_5_Hmeri_LYO_97', '135_8_unknown_WET_100', '135_7_unknown_LYO_99', '127_5_Prubra_LYO_57', '135_6_Hmeri_WET_98', '127_9_Ppisc_LYO_61', '133_7_Eferg_LYO_87', '127_7_Ppisc_LYO_59', '135_4_Vsina_WET_96', '135_10_Taipt_WET_102', '127_20_Valgi_WET_72', '133_10_Amacl_LYO_90', '133_9_Psp_LYO_89', '133_11_Pruth_LYO_91', '127_21_Pmedi_LYO_73', '103_10_Vsp_WET_38', '103_2_Vcora_WET_30_R', '103_11_Vcora_LYO_39', '103_3_Vcora_LYO_31', '101_17_Vharv_LYO_21', '101_18_Vharv_WET_22', '101_22_Vharv_WET_26', '103_12_Vcora_WET_40', '103_4_Vcora_WET_32', '103_8_Vsp_WET_36', '103_7_Vsp_LYO_35', '101_20_Vtubi_WET_24', '101_19_Vtubi_LYO_23', '103_20_Vcora_WET_48_R', '103_19_Vcora_LYO_47_R', '101_21_Vharv_LYO_25', '103_14_Vcora_WET_42', '103_18_Vcora_WET_46', '103_21_Vcora_LYO_49_R', '103_1_Vcora_LYO_29_R', '103_9_Vsp_LYO_37', '103_5_Vcora_LYO_33', '103_16_Vcora_WET_44', '103_23_Vcora_LYO_51_R', '127_13_Valgi_LYO_65', '127_18_Valgi_WET_70', '127_14_Valgi_WET_66', '103_22_Vcora_WET_50_R', '127_2_Vcora_WET_54_R', '103_17_Vcora_LYO_45', '103_6_Vcora_WET_34', '127_17_Valgi_LYO_69', '103_24_Vcora_WET_52_R', '133_6_Emob_WET_86', '127_3_Ppisc_LYO_55', '127_1_Vcora_LYO_53_R', '127_19_Valgi_LYO_71', '127_12_Ppisc_WET_64', '127_10_Ppisc_WET_62', '127_15_Prubra_LYO_67', '127_8_Ppisc_WET_60', '133_12_Amacl_LYO_92', '127_22_Pmedi_WET_74', '127_16_Prubra_WET_68', '127_23_Pruth_LYO_75', '127_6_Prubra_WET_58', '127_24_Pruth_WET_76', '103_13_Vcora_LYO_41', '103_15_Vcora_LYO_43', '127_4_Ppisc_WET_56']].apply(np.mean,axis=1)\n",
    "#Block 1 are the bacterial samples grown in agar\n",
    "BlockSamples2 = UnalteredFrame[['3_3_Pmedi_LYO_1', '3_4_Prubra_LYO_16', '1_Psp_LYO_6', '2_Pruth_LYO_11', '129_1_Psp_LYO_77', '129_8_Pruth_LYO_84', '129_2_Hlute_LYO_78', '129_7_Pmedi_LYO_83', '133_5_Emob_LYO_85', '129_5_Psp_LYO_81', '129_6_Hlute_LYO_82']].apply(np.mean,axis=1)\n",
    "#Block 2 are the bacterial samples grown in broth\n",
    "BlockSamples3 = UnalteredFrame[['3_3_Pmedi_LYO_1', '3_4_Prubra_LYO_16', '1_Psp_LYO_6', '2_Pruth_LYO_11', '129_1_Psp_LYO_77', '129_8_Pruth_LYO_84', '129_2_Hlute_LYO_78', '129_7_Pmedi_LYO_83', '133_5_Emob_LYO_85', '129_5_Psp_LYO_81', '129_6_Hlute_LYO_82', '135_1_Taipt_LYO_93', '101_24_Ratla_WET_28', '129_3_Pmedi_LYO_79', '129_4_Pruth_LYO_80', '101_23_Ratla_LYO_27', '135_3_Vsina_LYO_95', '135_2_Taipt_WET_94', '135_9_Taipt_LYO_101', '127_11_Ppisc_LYO_63', '133_8_Eferg_WET_88', '135_5_Hmeri_LYO_97', '135_8_unknown_WET_100', '135_7_unknown_LYO_99', '127_5_Prubra_LYO_57', '135_6_Hmeri_WET_98', '127_9_Ppisc_LYO_61', '133_7_Eferg_LYO_87', '127_7_Ppisc_LYO_59', '135_4_Vsina_WET_96', '135_10_Taipt_WET_102', '127_20_Valgi_WET_72', '133_10_Amacl_LYO_90', '133_9_Psp_LYO_89', '133_11_Pruth_LYO_91', '127_21_Pmedi_LYO_73', '103_10_Vsp_WET_38', '103_2_Vcora_WET_30_R', '103_11_Vcora_LYO_39', '103_3_Vcora_LYO_31', '101_17_Vharv_LYO_21', '101_18_Vharv_WET_22', '101_22_Vharv_WET_26', '103_12_Vcora_WET_40', '103_4_Vcora_WET_32', '103_8_Vsp_WET_36', '103_7_Vsp_LYO_35', '101_20_Vtubi_WET_24', '101_19_Vtubi_LYO_23', '103_20_Vcora_WET_48_R', '103_19_Vcora_LYO_47_R', '101_21_Vharv_LYO_25', '103_14_Vcora_WET_42', '103_18_Vcora_WET_46', '103_21_Vcora_LYO_49_R', '103_1_Vcora_LYO_29_R', '103_9_Vsp_LYO_37', '103_5_Vcora_LYO_33', '103_16_Vcora_WET_44', '103_23_Vcora_LYO_51_R', '127_13_Valgi_LYO_65', '127_18_Valgi_WET_70', '127_14_Valgi_WET_66', '103_22_Vcora_WET_50_R', '127_2_Vcora_WET_54_R', '103_17_Vcora_LYO_45', '103_6_Vcora_WET_34', '127_17_Valgi_LYO_69', '103_24_Vcora_WET_52_R', '133_6_Emob_WET_86', '127_3_Ppisc_LYO_55', '127_1_Vcora_LYO_53_R', '127_19_Valgi_LYO_71', '127_12_Ppisc_WET_64', '127_10_Ppisc_WET_62', '127_15_Prubra_LYO_67', '127_8_Ppisc_WET_60', '133_12_Amacl_LYO_92', '127_22_Pmedi_WET_74', '127_16_Prubra_WET_68', '127_23_Pruth_LYO_75', '127_6_Prubra_WET_58', '127_24_Pruth_WET_76', '103_13_Vcora_LYO_41', '103_15_Vcora_LYO_43', '127_4_Ppisc_WET_56']].apply(np.mean,axis=1)\n",
    "#Block 3 are all bacterial samples"
   ]
  },
  {
   "cell_type": "markdown",
   "metadata": {},
   "source": [
    "This gives the names of the columns"
   ]
  },
  {
   "cell_type": "code",
   "execution_count": 5,
   "metadata": {},
   "outputs": [
    {
     "data": {
      "text/plain": [
       "Index(['row ID', 'row m/z', 'row retention time', '135_1_Taipt_LYO_93',\n",
       "       '1_Psp_LYO_6', '101_24_Ratla_WET_28', '129_3_Pmedi_LYO_79',\n",
       "       '129_4_Pruth_LYO_80', '101_23_Ratla_LYO_27', '135_3_Vsina_LYO_95',\n",
       "       ...\n",
       "       '127_8_Ppisc_WET_60', '133_12_Amacl_LYO_92', '127_22_Pmedi_WET_74',\n",
       "       '127_16_Prubra_WET_68', '127_23_Pruth_LYO_75', '127_6_Prubra_WET_58',\n",
       "       '127_24_Pruth_WET_76', '103_13_Vcora_LYO_41', '103_15_Vcora_LYO_43',\n",
       "       '127_4_Ppisc_WET_56'],\n",
       "      dtype='object', length=104)"
      ]
     },
     "execution_count": 5,
     "metadata": {},
     "output_type": "execute_result"
    }
   ],
   "source": [
    "UnalteredFrame.columns"
   ]
  },
  {
   "cell_type": "markdown",
   "metadata": {},
   "source": [
    "This sets up the Filter Based on the LB Blank Columns"
   ]
  },
  {
   "cell_type": "code",
   "execution_count": 6,
   "metadata": {},
   "outputs": [],
   "source": [
    "TobeKeptBlockA = BlockSamples3 * .25 >= ControlsLCMSSOD"
   ]
  },
  {
   "cell_type": "code",
   "execution_count": 7,
   "metadata": {},
   "outputs": [],
   "source": [
    "ControlsLCMSSOD = TobeKeptBlockA"
   ]
  },
  {
   "cell_type": "markdown",
   "metadata": {},
   "source": [
    "This sets up the Filter based on the Control Blanks Columns"
   ]
  },
  {
   "cell_type": "code",
   "execution_count": 8,
   "metadata": {},
   "outputs": [],
   "source": [
    "TobeKeptBlockB = BlockSamples3 * .25 >= ControlscentrifugeSolventBlanks"
   ]
  },
  {
   "cell_type": "code",
   "execution_count": 9,
   "metadata": {},
   "outputs": [],
   "source": [
    "ControlscentrifugeSolventBlanks = TobeKeptBlockB"
   ]
  },
  {
   "cell_type": "markdown",
   "metadata": {},
   "source": [
    "Combine the Filters Together Into a single Filter"
   ]
  },
  {
   "cell_type": "code",
   "execution_count": 10,
   "metadata": {},
   "outputs": [],
   "source": [
    "TobeKeptBlockC = BlockSamples1 * .25 >= ControlsSWAMediaBlanks\n",
    "#no broth control"
   ]
  },
  {
   "cell_type": "code",
   "execution_count": 11,
   "metadata": {},
   "outputs": [],
   "source": [
    "TobeKeptBlockD = BlockSamples2 * .25 >= ControlsSWBMediaBlanks\n",
    "#no agar control"
   ]
  },
  {
   "cell_type": "code",
   "execution_count": 12,
   "metadata": {},
   "outputs": [],
   "source": [
    "ControlgrowthBlanks = TobeKeptBlockC & TobeKeptBlockD"
   ]
  },
  {
   "cell_type": "code",
   "execution_count": 13,
   "metadata": {},
   "outputs": [],
   "source": [
    "TobeKeptBlockE = BlockSamples3 * .25 >= ControlsfilterpaperSolventBlanks"
   ]
  },
  {
   "cell_type": "code",
   "execution_count": 14,
   "metadata": {},
   "outputs": [],
   "source": [
    "ControlsfilterpaperSolventBlanks = TobeKeptBlockE"
   ]
  },
  {
   "cell_type": "code",
   "execution_count": 15,
   "metadata": {},
   "outputs": [],
   "source": [
    "RetainFilter = ControlsfilterpaperSolventBlanks & ControlgrowthBlanks & ControlscentrifugeSolventBlanks & ControlsLCMSSOD\n",
    "#Combine the Filters Together Into a single Filter"
   ]
  },
  {
   "cell_type": "markdown",
   "metadata": {},
   "source": [
    "We use the Regular Filter (Greater than 25%) The results are stored in altered Frame"
   ]
  },
  {
   "cell_type": "code",
   "execution_count": 16,
   "metadata": {},
   "outputs": [],
   "source": [
    "TrueFrame = UnalteredFrame"
   ]
  },
  {
   "cell_type": "code",
   "execution_count": 17,
   "metadata": {},
   "outputs": [],
   "source": [
    "TrueFrame['Retained'] = RetainFilter"
   ]
  },
  {
   "cell_type": "markdown",
   "metadata": {},
   "source": [
    "Altered Frame is saved as a csv with the name given"
   ]
  },
  {
   "cell_type": "code",
   "execution_count": 18,
   "metadata": {},
   "outputs": [],
   "source": [
    "TrueFrame.to_csv('probiotbactcheck.csv')"
   ]
  },
  {
   "cell_type": "markdown",
   "metadata": {},
   "source": [
    "Keep Rows Marked True"
   ]
  },
  {
   "cell_type": "code",
   "execution_count": 19,
   "metadata": {},
   "outputs": [],
   "source": [
    "TrueFrame[RetainFilter].to_csv('Filteredprobiotbact.csv')"
   ]
  },
  {
   "cell_type": "code",
   "execution_count": null,
   "metadata": {},
   "outputs": [],
   "source": []
  }
 ],
 "metadata": {
  "kernelspec": {
   "display_name": "Python 3",
   "language": "python",
   "name": "python3"
  },
  "language_info": {
   "codemirror_mode": {
    "name": "ipython",
    "version": 3
   },
   "file_extension": ".py",
   "mimetype": "text/x-python",
   "name": "python",
   "nbconvert_exporter": "python",
   "pygments_lexer": "ipython3",
   "version": "3.7.4"
  }
 },
 "nbformat": 4,
 "nbformat_minor": 2
}
